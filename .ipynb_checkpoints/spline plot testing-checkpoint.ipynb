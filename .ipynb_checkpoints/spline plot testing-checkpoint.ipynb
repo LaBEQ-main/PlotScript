{
 "cells": [
  {
   "cell_type": "code",
   "execution_count": 5,
   "id": "b3b6753e",
   "metadata": {},
   "outputs": [],
   "source": [
    "import pandas as pd\n",
    "import matplotlib.pyplot as plt\n",
    "import numpy as np\n",
    "from scipy.interpolate import make_interp_spline, BSpline"
   ]
  },
  {
   "cell_type": "code",
   "execution_count": 9,
   "id": "6cc47218",
   "metadata": {},
   "outputs": [],
   "source": [
    "def plot_overlay_spline(plist, win, deg):\n",
    "    #doesnt work if x data has duplicates, which our data does.\n",
    "\n",
    "    for data in plist:\n",
    "        file = data[0]\n",
    "        vars = data[1]\n",
    "        lbl = data[2]\n",
    "        xcol = vars[0]\n",
    "        ycol = vars[1]\n",
    "\n",
    "        data = pd.read_csv(file, sep = '\\t')\n",
    "        cleandata = data.drop_duplicates(subset=[xcol]).sort_values(by=[xcol])\n",
    "        x = cleandata[xcol].to_numpy()\n",
    "        y = cleandata[ycol].to_numpy()\n",
    "\n",
    "        # plt.plot(x, y, label = lbl, linestyle = \"None\", marker = 'o')\n",
    "\n",
    "        # #test if x is 1D and sorted with no duplicates\n",
    "        print(x.ndim)\n",
    "        print(np.any(x[1:] <= x[:-1]))\n",
    "\n",
    "        # print(x)\n",
    "\n",
    "        xnew = np.linspace(x.min(), x.max(), 30000) \n",
    "        spl = make_interp_spline(x, y, k=3)  # type: BSpline\n",
    "        power_smooth = spl(xnew)\n",
    "\n",
    "        #set up overlay plot\n",
    "        plt.style.use('fivethirtyeight')\n",
    "        plt.tight_layout()\n",
    "        plt.xlabel(str(xcol))\n",
    "        plt.ylabel(str(ycol))\n",
    "        plt.title(f\"Overlay\")\n",
    "        plt.plot(xnew, power_smooth, label = lbl)\n",
    "        plt.legend(loc='best')\n",
    "    plt.show()"
   ]
  },
  {
   "cell_type": "code",
   "execution_count": 10,
   "id": "3c170891",
   "metadata": {},
   "outputs": [],
   "source": [
    "plotlist = [\n",
    "                # ['C:\\\\Users\\\\2administrator\\\\exopy\\\\measurement\\\\saved_measurements\\\\06292022_A025_A026_CoolDown\\\\CoolDownData_2.txt',('vti temp (K)', 'res'), \"A025\"],\n",
    "                # ['C:\\\\Users\\\\2administrator\\\\exopy\\measurement\\\\saved_measurements\\\\06302022_A026_A027_ProbeHeating\\\\probeheat_data.txt', ('vti temp (K)', 'res'), \"A027\"],\n",
    "                ['C:\\\\Users\\\\2administrator\\\\exopy\\measurement\\\\saved_measurements\\\\06302022_A026_A027_ProbeHeating\\\\probeheat_data.txt', ('vti temp (K)', 'NF res'), \"A026\"],\n",
    "            ]"
   ]
  },
  {
   "cell_type": "code",
   "execution_count": 15,
   "id": "89713dc6",
   "metadata": {},
   "outputs": [
    {
     "name": "stdout",
     "output_type": "stream",
     "text": [
      "1\n",
      "False\n"
     ]
    },
    {
     "data": {
      "image/png": "[encoded data removed]",
      "text/plain": [
       "<Figure size 432x288 with 1 Axes>"
      ]
     },
     "metadata": {},
     "output_type": "display_data"
    }
   ],
   "source": [
    "plot_overlay_spline(plotlist)"
   ]
  },
  {
   "cell_type": "code",
   "execution_count": 36,
   "id": "834baee5",
   "metadata": {},
   "outputs": [],
   "source": [
    "file = 'C:\\\\Users\\\\2administrator\\\\exopy\\measurement\\\\saved_measurements\\\\06302022_A026_A027_ProbeHeating\\\\probeheat_data.txt'\n",
    "xcol = 'vti temp (K)'\n",
    "ycol = 'NF res'"
   ]
  },
  {
   "cell_type": "code",
   "execution_count": 58,
   "id": "dd49d000",
   "metadata": {},
   "outputs": [],
   "source": [
    "%matplotlib qt\n",
    "import numpy as np\n",
    "import matplotlib.pyplot as plt\n",
    "from scipy.signal import savgol_filter\n",
    "\n",
    "\n",
    "data = pd.read_csv(file, sep = '\\t')\n",
    "x = data[xcol].to_numpy()\n",
    "y = data[ycol].to_numpy()\n",
    "cleandata = data.drop_duplicates(subset=[xcol]).sort_values(by=[xcol])\n",
    "cx = cleandata[xcol].to_numpy()\n",
    "cy = cleandata[ycol].to_numpy()\n",
    "        \n",
    "yhat = savgol_filter(cy, 151, 3) # window size 51, polynomial order 3\n",
    "\n",
    "plt.plot(x,y, marker = 'o', linestyle = 'None')\n",
    "plt.plot(cx,yhat, color='red')\n",
    "plt.show()"
   ]
  },
  {
   "cell_type": "code",
   "execution_count": null,
   "id": "b72e3939",
   "metadata": {},
   "outputs": [],
   "source": []
  }
 ],
 "metadata": {
  "kernelspec": {
   "display_name": "Python 3 (ipykernel)",
   "language": "python",
   "name": "python3"
  },
  "language_info": {
   "codemirror_mode": {
    "name": "ipython",
    "version": 3
   },
   "file_extension": ".py",
   "mimetype": "text/x-python",
   "name": "python",
   "nbconvert_exporter": "python",
   "pygments_lexer": "ipython3",
   "version": "3.9.7"
  }
 },
 "nbformat": 4,
 "nbformat_minor": 5
}
